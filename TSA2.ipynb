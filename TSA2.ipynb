{
  "nbformat": 4,
  "nbformat_minor": 0,
  "metadata": {
    "colab": {
      "provenance": []
    },
    "kernelspec": {
      "name": "python3",
      "display_name": "Python 3"
    },
    "language_info": {
      "name": "python"
    }
  },
  "cells": [
    {
      "cell_type": "code",
      "execution_count": null,
      "metadata": {
        "colab": {
          "base_uri": "https://localhost:8080/"
        },
        "id": "Lzw7HEwtkUSc",
        "outputId": "32243544-aea3-4d93-9792-5b3157dba608"
      },
      "outputs": [
        {
          "output_type": "stream",
          "name": "stdout",
          "text": [
            "              precision    recall  f1-score   support\n",
            "\n",
            "    negative       0.00      0.00      0.00         1\n",
            "    positive       0.50      1.00      0.67         1\n",
            "\n",
            "    accuracy                           0.50         2\n",
            "   macro avg       0.25      0.50      0.33         2\n",
            "weighted avg       0.25      0.50      0.33         2\n",
            "\n",
            "Predicted Labels: ['positive' 'positive']\n"
          ]
        },
        {
          "output_type": "stream",
          "name": "stderr",
          "text": [
            "/usr/local/lib/python3.10/dist-packages/sklearn/metrics/_classification.py:1471: UndefinedMetricWarning: Precision and F-score are ill-defined and being set to 0.0 in labels with no predicted samples. Use `zero_division` parameter to control this behavior.\n",
            "  _warn_prf(average, modifier, msg_start, len(result))\n",
            "/usr/local/lib/python3.10/dist-packages/sklearn/metrics/_classification.py:1471: UndefinedMetricWarning: Precision and F-score are ill-defined and being set to 0.0 in labels with no predicted samples. Use `zero_division` parameter to control this behavior.\n",
            "  _warn_prf(average, modifier, msg_start, len(result))\n",
            "/usr/local/lib/python3.10/dist-packages/sklearn/metrics/_classification.py:1471: UndefinedMetricWarning: Precision and F-score are ill-defined and being set to 0.0 in labels with no predicted samples. Use `zero_division` parameter to control this behavior.\n",
            "  _warn_prf(average, modifier, msg_start, len(result))\n"
          ]
        }
      ],
      "source": [
        "import pandas as pd\n",
        "from sklearn.feature_extraction.text import TfidfVectorizer\n",
        "from sklearn.model_selection import train_test_split\n",
        "from sklearn.linear_model import LogisticRegression\n",
        "from sklearn.metrics import classification_report\n",
        "\n",
        "# Sample data\n",
        "data = {\n",
        "    'text': [\n",
        "        \"I love this movie. It's fantastic!\",\n",
        "        \"Horrible movie. Waste of time.\",\n",
        "        \"Amazing film with great acting.\",\n",
        "        \"Not worth watching. Boring plot.\",\n",
        "        \"Incredible movie! Highly recommend.\"\n",
        "    ],\n",
        "    'label': ['positive', 'negative', 'positive', 'negative', 'positive']  # Example labels\n",
        "}\n",
        "\n",
        "# Create a DataFrame\n",
        "df = pd.DataFrame(data)\n",
        "\n",
        "# Define TF-IDF Vectorizer\n",
        "vectorizer = TfidfVectorizer(stop_words='english')\n",
        "\n",
        "# Transform the text data\n",
        "X = vectorizer.fit_transform(df['text'])\n",
        "\n",
        "# Target variable\n",
        "y = df['label']\n",
        "\n",
        "# Split data into training and testing sets\n",
        "X_train, X_test, y_train, y_test = train_test_split(X, y, test_size=0.3, random_state=42)\n",
        "\n",
        "# Train a classifier (e.g., Logistic Regression)\n",
        "classifier = LogisticRegression()\n",
        "classifier.fit(X_train, y_train)\n",
        "\n",
        "# Predict labels for the test set\n",
        "y_pred = classifier.predict(X_test)\n",
        "\n",
        "# Evaluate the classifier\n",
        "print(classification_report(y_test, y_pred))\n",
        "\n",
        "# Example of classifying new text\n",
        "new_texts = [\n",
        "    \"I found this movie quite entertaining.\",\n",
        "    \"The film was a complete disaster.\"\n",
        "]\n",
        "\n",
        "# Transform new texts using the same vectorizer\n",
        "X_new = vectorizer.transform(new_texts)\n",
        "\n",
        "# Predict the labels for new texts\n",
        "predictions = classifier.predict(X_new)\n",
        "print(f\"Predicted Labels: {predictions}\")\n"
      ]
    },
    {
      "cell_type": "code",
      "source": [
        "\n",
        "from sklearn.feature_extraction.text import TfidfVectorizer\n",
        "\n",
        "# Sample documents\n",
        "documents = [\n",
        "    \"I love programming in Python.\",\n",
        "    \"Python is a great programming language.\",\n",
        "    \"I love machine learning with Python.\"\n",
        "]\n",
        "\n",
        "# Initialize the TF-IDF Vectorizer\n",
        "vectorizer = TfidfVectorizer()\n",
        "\n",
        "# Fit and transform the documents\n",
        "tfidf_matrix = vectorizer.fit_transform(documents)\n",
        "\n",
        "# Get feature names\n",
        "feature_names = vectorizer.get_feature_names_out()\n",
        "\n",
        "# Convert the TF-IDF matrix to a dense format and print it\n",
        "dense_matrix = tfidf_matrix.todense()\n",
        "print(\"TF-IDF Matrix:\")\n",
        "print(dense_matrix)\n",
        "\n",
        "print(\"\\nFeature Names:\")\n",
        "print(feature_names)\n"
      ],
      "metadata": {
        "colab": {
          "base_uri": "https://localhost:8080/"
        },
        "id": "weUsLsH1nCED",
        "outputId": "7924d58e-25f8-4516-a6c4-a60028fb9be5"
      },
      "execution_count": null,
      "outputs": [
        {
          "output_type": "stream",
          "name": "stdout",
          "text": [
            "TF-IDF Matrix:\n",
            "[[0.         0.63174505 0.         0.         0.         0.4804584\n",
            "  0.         0.4804584  0.37311881 0.        ]\n",
            " [0.50461134 0.         0.50461134 0.50461134 0.         0.\n",
            "  0.         0.38376993 0.29803159 0.        ]\n",
            " [0.         0.         0.         0.         0.50461134 0.38376993\n",
            "  0.50461134 0.         0.29803159 0.50461134]]\n",
            "\n",
            "Feature Names:\n",
            "['great' 'in' 'is' 'language' 'learning' 'love' 'machine' 'programming'\n",
            " 'python' 'with']\n"
          ]
        }
      ]
    },
    {
      "cell_type": "code",
      "source": [
        "import numpy as np\n",
        "from collections import Counter\n",
        "import math\n",
        "\n",
        "documents = [\n",
        "    \"I love programming in Python.\",\n",
        "    \"Python is a great programming language.\",\n",
        "    \"I love machine learning with Python.\"\n",
        "]\n",
        "def tokenize(text):\n",
        "    return text.lower().split()\n",
        "def compute_document_frequency(docs):\n",
        "    df = Counter()\n",
        "    num_docs = len(docs)\n",
        "    for doc in docs:\n",
        "        tokens = set(tokenize(doc))\n",
        "        for token in tokens:\n",
        "            df[token] += 1\n",
        "    return df, num_docs\n",
        "def compute_idf(df, num_docs):\n",
        "    idf = {}\n",
        "    for token, freq in df.items():\n",
        "        idf[token] = math.log(num_docs / (1 + freq))\n",
        "    return idf\n",
        "df, num_docs = compute_document_frequency(documents)\n",
        "idf = compute_idf(df, num_docs)\n",
        "print(\"IDF Values:\")\n",
        "for term, idf_value in idf.items():\n",
        "    print(f\"{term}: {idf_value}\")\n"
      ],
      "metadata": {
        "colab": {
          "base_uri": "https://localhost:8080/"
        },
        "id": "dssGYQNAno1a",
        "outputId": "ecefa86f-3064-44a1-ca9c-f15a2144d383"
      },
      "execution_count": null,
      "outputs": [
        {
          "output_type": "stream",
          "name": "stdout",
          "text": [
            "IDF Values:\n",
            "i: 0.0\n",
            "love: 0.0\n",
            "in: 0.4054651081081644\n",
            "python.: 0.0\n",
            "programming: 0.0\n",
            "great: 0.4054651081081644\n",
            "is: 0.4054651081081644\n",
            "python: 0.4054651081081644\n",
            "a: 0.4054651081081644\n",
            "language.: 0.4054651081081644\n",
            "machine: 0.4054651081081644\n",
            "learning: 0.4054651081081644\n",
            "with: 0.4054651081081644\n"
          ]
        }
      ]
    },
    {
      "cell_type": "code",
      "source": [
        "#code for TF\n",
        "from sklearn.feature_extraction.text import CountVectorizer\n",
        "import pandas as pd\n",
        "\n",
        "# Sample documents\n",
        "documents = [\n",
        "    \"I love programming in Python.\",\n",
        "    \"Python is a great programming language.\",\n",
        "    \"I love machine learning with Python.\"\n",
        "]\n",
        "\n",
        "# Initialize the Count Vectorizer\n",
        "vectorizer = CountVectorizer()\n",
        "\n",
        "# Fit and transform the documents\n",
        "tf_matrix = vectorizer.fit_transform(documents)\n",
        "\n",
        "# Convert the TF matrix to a dense format\n",
        "dense_matrix = tf_matrix.todense()\n",
        "\n",
        "# Create a DataFrame to display the TF values\n",
        "df_tf = pd.DataFrame(dense_matrix, columns=vectorizer.get_feature_names_out())\n",
        "\n",
        "print(\"Term Frequency Matrix:\")\n",
        "print(df_tf)\n"
      ],
      "metadata": {
        "colab": {
          "base_uri": "https://localhost:8080/"
        },
        "id": "5tAqTehaoBAu",
        "outputId": "aaecc5c4-4ac4-4561-f857-18accd0587c6"
      },
      "execution_count": null,
      "outputs": [
        {
          "output_type": "stream",
          "name": "stdout",
          "text": [
            "Term Frequency Matrix:\n",
            "   great  in  is  language  learning  love  machine  programming  python  with\n",
            "0      0   1   0         0         0     1        0            1       1     0\n",
            "1      1   0   1         1         0     0        0            1       1     0\n",
            "2      0   0   0         0         1     1        1            0       1     1\n"
          ]
        }
      ]
    },
    {
      "cell_type": "code",
      "source": [
        "from sklearn.feature_extraction.text import TfidfVectorizer\n",
        "import pandas as pd\n",
        "documents = [\n",
        "    \"I love programming in Python.\",\n",
        "    \"Python is a great programming language.\",\n",
        "    \"I love machine learning with Python.\"\n",
        "]\n",
        "vectorizer = TfidfVectorizer()\n",
        "tfidf_matrix = vectorizer.fit_transform(documents)\n",
        "dense_matrix = tfidf_matrix.todense()\n",
        "df_tfidf = pd.DataFrame(dense_matrix, columns=vectorizer.get_feature_names_out())\n",
        "print(\"TF-IDF Matrix:\")\n",
        "print(df_tfidf)\n"
      ],
      "metadata": {
        "colab": {
          "base_uri": "https://localhost:8080/"
        },
        "id": "u1yLc-jWoX7u",
        "outputId": "fcb81d9d-e431-4c03-f421-c48f5a4c2094"
      },
      "execution_count": null,
      "outputs": [
        {
          "output_type": "stream",
          "name": "stdout",
          "text": [
            "TF-IDF Matrix:\n",
            "      great        in        is  language  learning      love   machine  \\\n",
            "0  0.000000  0.631745  0.000000  0.000000  0.000000  0.480458  0.000000   \n",
            "1  0.504611  0.000000  0.504611  0.504611  0.000000  0.000000  0.000000   \n",
            "2  0.000000  0.000000  0.000000  0.000000  0.504611  0.383770  0.504611   \n",
            "\n",
            "   programming    python      with  \n",
            "0     0.480458  0.373119  0.000000  \n",
            "1     0.383770  0.298032  0.000000  \n",
            "2     0.000000  0.298032  0.504611  \n"
          ]
        }
      ]
    }
  ]
}